{
 "cells": [
  {
   "cell_type": "markdown",
   "id": "3cb3a359-86db-4518-94fe-b8d89d63d125",
   "metadata": {},
   "source": [
    "<img src=\"image/hft_logo.jpg\"\n",
    "     alt=\"Hft Logo\"\n",
    "     align=\"right\" \n",
    "     width=\"150\" \n",
    "     height=\"150\" />\n",
    "# Mathematik Master Seminar\n",
    "## Zeitreihenprognose mit Long short-term memory\n",
    "\n",
    "---\n",
    "### Philipp Dörich & Tim Oliver Walter\n",
    "### 13. Dezember 2021\n",
    "\n",
    "---"
   ]
  },
  {
   "cell_type": "markdown",
   "id": "5b0bd4a2",
   "metadata": {
    "papermill": {
     "duration": 0.026914,
     "end_time": "2021-10-08T16:02:31.176794",
     "exception": false,
     "start_time": "2021-10-08T16:02:31.149880",
     "status": "completed"
    },
    "tags": []
   },
   "source": [
    "## Agenda\n",
    "1. [Importing Data](#Importing_Data)\n",
    "2. [Data Preparation and Manipulation](#Data_Preparation_Manipulation)\n",
    "3. [Exploratory Data Analysis](#EDA)\n",
    "4. [Create Model](#Create_Model)\n",
    "5. [Forecasting](#Forecasting)"
   ]
  },
  {
   "cell_type": "code",
   "execution_count": null,
   "id": "fc446e04-f41c-4608-9cf3-8d153cc349de",
   "metadata": {
    "papermill": {
     "duration": 5.980778,
     "end_time": "2021-10-08T16:02:37.190349",
     "exception": false,
     "start_time": "2021-10-08T16:02:31.209571",
     "status": "completed"
    },
    "tags": []
   },
   "outputs": [],
   "source": [
    "import warnings\n",
    "warnings.filterwarnings(\"ignore\")\n",
    "\n",
    "import numpy as np\n",
    "import pandas as pd\n",
    "import matplotlib.pyplot as plt\n",
    "import seaborn as sns\n",
    "\n",
    "from statsmodels.tsa.seasonal import seasonal_decompose\n",
    "from statsmodels.graphics.tsaplots import plot_acf, plot_pacf\n",
    "from statsmodels.tsa.stattools import adfuller\n",
    "\n",
    "import tensorflow\n",
    "from tensorflow.keras.models import Sequential\n",
    "from tensorflow.keras.layers import LSTM\n",
    "from tensorflow.keras.layers import Dense\n",
    "\n",
    "from sklearn.metrics import mean_squared_error\n",
    "from sklearn.preprocessing import MinMaxScaler\n",
    "from sklearn.model_selection import train_test_split\n",
    "\n",
    "%matplotlib inline\n",
    "plt.style.use(\"fivethirtyeight\")"
   ]
  },
  {
   "cell_type": "markdown",
   "id": "eab1583f-7660-468d-bb83-fd5d6d9372a2",
   "metadata": {
    "papermill": {
     "duration": 0.022682,
     "end_time": "2021-10-08T16:02:37.236893",
     "exception": false,
     "start_time": "2021-10-08T16:02:37.214211",
     "status": "completed"
    },
    "tags": []
   },
   "source": [
    "## Importing Data <a name=\"Importing_Data\"></a>"
   ]
  },
  {
   "cell_type": "markdown",
   "id": "f92bb4e7-c7e3-4442-986c-9359da580140",
   "metadata": {},
   "source": [
    "The data are the time series of the concentration of Particulate Matter 2.5 in the air of Milan.\n",
    "\n",
    "The data have been sampled using a laser-scattering PM2.5 sensor.\n",
    "\n",
    "The sampling frequency varies from 1/15min to 1/1h. The dataset contains hourly means.\n",
    "\n",
    "Data have been sampled in Milan, at 45.4582861 North 9.1675597 East.\n",
    "\n",
    "Data have been sampled from 2020-07-24 to 2020-09-20."
   ]
  },
  {
   "cell_type": "code",
   "execution_count": null,
   "id": "62b2710a",
   "metadata": {
    "papermill": {
     "duration": 0.06419,
     "end_time": "2021-10-08T16:02:37.324735",
     "exception": false,
     "start_time": "2021-10-08T16:02:37.260545",
     "status": "completed"
    },
    "tags": []
   },
   "outputs": [],
   "source": [
    "filepath = \"data/aq_milan_summer_2020.csv\"\n",
    "df = pd.read_csv(filepath)\n",
    "df.head()"
   ]
  },
  {
   "cell_type": "code",
   "execution_count": null,
   "id": "e794b3a9",
   "metadata": {
    "papermill": {
     "duration": 0.055633,
     "end_time": "2021-10-08T16:02:37.405035",
     "exception": false,
     "start_time": "2021-10-08T16:02:37.349402",
     "status": "completed"
    },
    "tags": []
   },
   "outputs": [],
   "source": [
    "print(\"Null values local_datetime:\", df.isnull().sum()[0])\n",
    "print(\"Null values pm2p5:\", df.isnull().sum()[1])"
   ]
  },
  {
   "cell_type": "code",
   "execution_count": null,
   "id": "eac2a957-c899-4fb1-86f6-97354a0d84be",
   "metadata": {},
   "outputs": [],
   "source": [
    "stats = df.describe().transpose()\n",
    "stats = stats.rename({\"count\":\"rows\"},axis=1)\n",
    "stats"
   ]
  },
  {
   "cell_type": "markdown",
   "id": "04b51b21",
   "metadata": {
    "papermill": {
     "duration": 0.024321,
     "end_time": "2021-10-08T16:02:37.521369",
     "exception": false,
     "start_time": "2021-10-08T16:02:37.497048",
     "status": "completed"
    },
    "tags": []
   },
   "source": [
    "## Data Preparation and Manipulation <a name=\"Data_Preparation_Manipulation\"></a>"
   ]
  },
  {
   "cell_type": "code",
   "execution_count": null,
   "id": "4cffd1d9",
   "metadata": {
    "papermill": {
     "duration": 0.051267,
     "end_time": "2021-10-08T16:02:37.597283",
     "exception": false,
     "start_time": "2021-10-08T16:02:37.546016",
     "status": "completed"
    },
    "tags": []
   },
   "outputs": [],
   "source": [
    "# Als Zeitreihe darstellen\n",
    "df = df.rename({\n",
    "    \"local_datetime\":\"ds\",\n",
    "    \"pm2p5\":\"y\"},\n",
    "    axis=1)\n",
    "df[\"ds\"] = pd.to_datetime(df[\"ds\"])\n",
    "df = df.set_index(\"ds\")\n",
    "#df= df.asfreq(freq=\"H\")\n",
    "df.head()"
   ]
  },
  {
   "cell_type": "markdown",
   "id": "ee401a80",
   "metadata": {
    "papermill": {
     "duration": 0.024604,
     "end_time": "2021-10-08T16:02:37.646871",
     "exception": false,
     "start_time": "2021-10-08T16:02:37.622267",
     "status": "completed"
    },
    "tags": []
   },
   "source": [
    "## Exploratory Data Analysis <a name=\"EDA\"></a>"
   ]
  },
  {
   "cell_type": "markdown",
   "id": "191cd804-4527-4485-99bf-1fb8cd6ceac1",
   "metadata": {},
   "source": [
    "Eine Zeitreihe $y_t$ besteht aus endlich vielen, zeitlich angeordneten Messwerten:\n",
    "\n",
    "$x_{t_1}, x_{t_2}, \\ldots, x_{t_T}$ &nbsp;&nbsp; mit &nbsp;&nbsp; $x_{t_k} \\in \\mathbb{R}^n$ &nbsp;&nbsp; und &nbsp;&nbsp; $k = 1, 2, \\ldots, T$.\n",
    "\n",
    "Wobei gilt: &nbsp;&nbsp; $t_1 < t_2 < \\ldots < t_T$.\n",
    "\n",
    "Man nennt eine Zeitreihe **skalar** oder **univariat**, wenn $n = 1$ gilt, also zu jedem Zeitpunkt nur eine Beobachtung vorliegt. \n",
    "\n",
    "Liegen zu jedem Zeitpunkt $n > 1$ Beobachtungen vor, spricht man von **multivariaten** Zeitreihen. \n",
    "\n",
    "***TODO:*** Beispiel multivariate Zeitreihe!\n"
   ]
  },
  {
   "cell_type": "code",
   "execution_count": null,
   "id": "481bd8f6",
   "metadata": {
    "papermill": {
     "duration": 0.501544,
     "end_time": "2021-10-08T16:02:38.174390",
     "exception": false,
     "start_time": "2021-10-08T16:02:37.672846",
     "status": "completed"
    },
    "tags": []
   },
   "outputs": [],
   "source": [
    "roll_mean = df.y.rolling(5).mean()\n",
    "roll_std = df.y.rolling(5).std()\n",
    "\n",
    "plt.figure(figsize=(16, 7))\n",
    "plt.plot(df, label=\"Concentration\")\n",
    "plt.plot(roll_mean ,label=\"Moving Average\",linewidth=2.5)\n",
    "plt.xlabel(\"Date\")\n",
    "plt.ylabel(\"ug/m3\")\n",
    "plt.legend()\n",
    "plt.title(\"Concentration of PM2.5 (ug/m3)\")\n",
    "plt.show()"
   ]
  },
  {
   "cell_type": "markdown",
   "id": "25a31044-236b-48b3-a193-715e049e7a0b",
   "metadata": {},
   "source": []
  },
  {
   "cell_type": "code",
   "execution_count": null,
   "id": "5b6a327e-218a-41d3-a1bc-ef75ba3eeb06",
   "metadata": {},
   "outputs": [],
   "source": [
    "boxplot_df = df.copy()\n",
    "boxplot_df[\"Day\"] = boxplot_df.index.dayofyear\n",
    "fig, ax = plt.subplots(figsize=(16, 7))\n",
    "boxplot_df.boxplot(by ='Day', column =['y'], ax = ax)\n",
    "ax.set_xticks(ax.get_xticks()[::8])\n",
    "ax.set_xticklabels(boxplot_df.Day[::192].index.date)\n",
    "plt.title(\"pm2p5\")\n",
    "plt.ylabel(\"Values\")\n",
    "plt.xlabel(\"Date\")\n",
    "plt.show()"
   ]
  },
  {
   "cell_type": "markdown",
   "id": "c1826b4a-9fd6-4d8a-82f0-6fac1214b978",
   "metadata": {},
   "source": [
    "Was ist ein Histogramm (mathematisch)"
   ]
  },
  {
   "cell_type": "code",
   "execution_count": null,
   "id": "b9f250d1-73e0-44db-8f72-7ae9148078f5",
   "metadata": {
    "tags": []
   },
   "outputs": [],
   "source": [
    "plt.figure(figsize=(16, 7))\n",
    "plt.hist(df)\n",
    "plt.xlabel(\"ug/m3\")\n",
    "plt.ylabel(\"Probability\")\n",
    "plt.title(\"Concentration of PM2.5 (ug/m3)\")\n",
    "plt.show()"
   ]
  },
  {
   "cell_type": "markdown",
   "id": "de94df6f-8838-4a21-a1d1-4e4e53a00333",
   "metadata": {},
   "source": [
    "Eine Zeitreihe $y_t$ lässt sich analog zu unserer obigen Definition, auf zwei Arten beschreiben:\n",
    "\n",
    "Additiv: &nbsp;&nbsp; $y_t = S_t + T_t + R_t$\n",
    "\n",
    "Multiplikativ: &nbsp;&nbsp; $y_t = S_t \\cdot T_t \\cdot R_t$\n",
    "\n",
    "Dies ist von Vorteil, da in Zeitreihen oft mehrere Muster enthalten sind. Um diese Muster darstellen zu können wird die Zeitreihe in verschiedene Komponenten aufgeteilt. Die Komponenten sind wie folgt definiert:\n",
    "\n",
    "$S_t :=$ Sesonalität\n",
    "\n",
    "$T_t :=$ Trend\n",
    "\n",
    "$R_t :=$ Rauschen"
   ]
  },
  {
   "cell_type": "code",
   "execution_count": null,
   "id": "5f94f8b4",
   "metadata": {
    "papermill": {
     "duration": 1.565117,
     "end_time": "2021-10-08T16:02:39.769157",
     "exception": false,
     "start_time": "2021-10-08T16:02:38.204040",
     "status": "completed"
    },
    "tags": []
   },
   "outputs": [],
   "source": [
    "decompose_result_add = seasonal_decompose(df, model=\"additive\", extrapolate_trend=\"freq\")\n",
    "decompose_result_mul = seasonal_decompose(df, model=\"multiplicative\", extrapolate_trend=\"freq\")\n",
    "\n",
    "plt.rcParams.update({'figure.figsize': (16, 7)})\n",
    "decompose_result_mul.plot().suptitle(\"Multiplicative Decompose\", fontsize=18)\n",
    "decompose_result_add.plot().suptitle(\"Additive Decompose\", fontsize=18)\n",
    "plt.show()"
   ]
  },
  {
   "cell_type": "markdown",
   "id": "81bd277e",
   "metadata": {
    "papermill": {
     "duration": 0.036972,
     "end_time": "2021-10-08T16:02:39.844921",
     "exception": false,
     "start_time": "2021-10-08T16:02:39.807949",
     "status": "completed"
    },
    "tags": []
   },
   "source": [
    "$\\Rightarrow$ The additive decomposition, looks quite random. So ideally, additive decomposition should be preferred for this particular series."
   ]
  },
  {
   "cell_type": "code",
   "execution_count": null,
   "id": "5f88d147",
   "metadata": {
    "papermill": {
     "duration": 0.411646,
     "end_time": "2021-10-08T16:02:40.294587",
     "exception": false,
     "start_time": "2021-10-08T16:02:39.882941",
     "status": "completed"
    },
    "tags": []
   },
   "outputs": [],
   "source": [
    "fig, (ax1,ax2) = plt.subplots(1,2,figsize=(16, 7))\n",
    "plot_acf(df,lags=50, ax=ax1)\n",
    "plot_pacf(df,lags=50, ax=ax2)\n",
    "plt.show()"
   ]
  },
  {
   "cell_type": "code",
   "execution_count": null,
   "id": "2edd5060",
   "metadata": {
    "papermill": {
     "duration": 0.110795,
     "end_time": "2021-10-08T16:02:40.444113",
     "exception": false,
     "start_time": "2021-10-08T16:02:40.333318",
     "status": "completed"
    },
    "tags": []
   },
   "outputs": [],
   "source": [
    "adf_result = adfuller(df)\n",
    "print('ADF Statistic: %.3f' % adf_result[0])\n",
    "print('p-value: %.3f' % adf_result[1])\n",
    "print('Critical Values:')\n",
    "for key, value in adf_result[4].items():\n",
    "    print('\\t%s: %.3f' % (key, value))"
   ]
  },
  {
   "cell_type": "markdown",
   "id": "132cd799",
   "metadata": {
    "papermill": {
     "duration": 0.058691,
     "end_time": "2021-10-08T16:02:40.576213",
     "exception": false,
     "start_time": "2021-10-08T16:02:40.517522",
     "status": "completed"
    },
    "tags": []
   },
   "source": [
    "For this series, the p-value is very close to zero and much lower than the 3 confidence values mentioned. Therefore, we can reject the null hypothesis for this series. According to the ADF test, the time series of the concentration of particulate matter 2.5 in the air of Milan is therefore stationary."
   ]
  },
  {
   "cell_type": "markdown",
   "id": "19dcaa1f",
   "metadata": {
    "papermill": {
     "duration": 0.039672,
     "end_time": "2021-10-08T16:02:40.655109",
     "exception": false,
     "start_time": "2021-10-08T16:02:40.615437",
     "status": "completed"
    },
    "tags": []
   },
   "source": [
    "## Create Model <a name=\"Create_Model\"></a>"
   ]
  },
  {
   "cell_type": "markdown",
   "id": "53b91990",
   "metadata": {
    "papermill": {
     "duration": 0.041171,
     "end_time": "2021-10-08T16:02:40.736775",
     "exception": false,
     "start_time": "2021-10-08T16:02:40.695604",
     "status": "completed"
    },
    "tags": []
   },
   "source": [
    "### Data Preparation"
   ]
  },
  {
   "cell_type": "code",
   "execution_count": null,
   "id": "3c21fe2d",
   "metadata": {
    "papermill": {
     "duration": 0.057496,
     "end_time": "2021-10-08T16:02:40.833762",
     "exception": false,
     "start_time": "2021-10-08T16:02:40.776266",
     "status": "completed"
    },
    "tags": []
   },
   "outputs": [],
   "source": [
    "scaler = MinMaxScaler(feature_range=(0, 1))\n",
    "df[[\"y\"]] = scaler.fit_transform(df[[\"y\"]])\n",
    "\n",
    "y_train, y_test =train_test_split(df,shuffle=False, test_size=0.3)\n",
    "\n",
    "print(f'Train: {y_train.shape}')\n",
    "print(f'Test: {y_test.shape}')"
   ]
  },
  {
   "cell_type": "markdown",
   "id": "3e1ac551",
   "metadata": {
    "papermill": {
     "duration": 0.03942,
     "end_time": "2021-10-08T16:02:40.912394",
     "exception": false,
     "start_time": "2021-10-08T16:02:40.872974",
     "status": "completed"
    },
    "tags": []
   },
   "source": [
    "### Sampling"
   ]
  },
  {
   "cell_type": "code",
   "execution_count": null,
   "id": "4688ffa2",
   "metadata": {
    "papermill": {
     "duration": 0.048831,
     "end_time": "2021-10-08T16:02:41.000884",
     "exception": false,
     "start_time": "2021-10-08T16:02:40.952053",
     "status": "completed"
    },
    "tags": []
   },
   "outputs": [],
   "source": [
    "def sampling(sequence, n_steps):\n",
    "    X, Y = list(), list()\n",
    "    for i in range(len(sequence)):\n",
    "        sam = i + n_steps\n",
    "        if sam > len(sequence)-1:\n",
    "            break\n",
    "            \n",
    "        x, y = sequence[i:sam], sequence[sam]\n",
    "        X.append(x)\n",
    "        Y.append(y)\n",
    "        \n",
    "    return np.array(X), np.array(Y)"
   ]
  },
  {
   "cell_type": "code",
   "execution_count": null,
   "id": "6cba5019",
   "metadata": {
    "papermill": {
     "duration": 0.053143,
     "end_time": "2021-10-08T16:02:41.095121",
     "exception": false,
     "start_time": "2021-10-08T16:02:41.041978",
     "status": "completed"
    },
    "tags": []
   },
   "outputs": [],
   "source": [
    "n_steps = 3\n",
    "n_features = 1\n",
    "\n",
    "X_train, Y_train = sampling(y_train[\"y\"].tolist(), n_steps)\n",
    "X_test, Y_test = sampling(y_test[\"y\"].tolist(), n_steps)\n",
    "    \n",
    "X_train = X_train.reshape((X_train.shape[0], X_train.shape[1], 1))\n",
    "X_test = X_test.reshape((X_test.shape[0], X_test.shape[1], 1))"
   ]
  },
  {
   "cell_type": "markdown",
   "id": "7e7761e9",
   "metadata": {
    "papermill": {
     "duration": 0.039989,
     "end_time": "2021-10-08T16:02:41.175802",
     "exception": false,
     "start_time": "2021-10-08T16:02:41.135813",
     "status": "completed"
    },
    "tags": []
   },
   "source": [
    "### Model"
   ]
  },
  {
   "cell_type": "code",
   "execution_count": null,
   "id": "2a3f250d",
   "metadata": {
    "papermill": {
     "duration": 0.266062,
     "end_time": "2021-10-08T16:02:41.481865",
     "exception": false,
     "start_time": "2021-10-08T16:02:41.215803",
     "status": "completed"
    },
    "tags": []
   },
   "outputs": [],
   "source": [
    "model = Sequential()\n",
    "model.add(LSTM(50, activation=\"relu\", input_shape=(n_steps, n_features)))\n",
    "model.add(Dense(1))\n",
    "model.compile(optimizer=\"adam\", loss=\"mse\")\n",
    "model.summary()"
   ]
  },
  {
   "cell_type": "code",
   "execution_count": null,
   "id": "e3b67ec8",
   "metadata": {
    "papermill": {
     "duration": 2.828839,
     "end_time": "2021-10-08T16:02:44.352083",
     "exception": false,
     "start_time": "2021-10-08T16:02:41.523244",
     "status": "completed"
    },
    "tags": []
   },
   "outputs": [],
   "source": [
    "history = model.fit(X_train, Y_train,validation_data=(X_test, Y_test),epochs=8, batch_size=50,verbose=1)"
   ]
  },
  {
   "cell_type": "markdown",
   "id": "fc6029b8",
   "metadata": {
    "papermill": {
     "duration": 0.046562,
     "end_time": "2021-10-08T16:02:44.446230",
     "exception": false,
     "start_time": "2021-10-08T16:02:44.399668",
     "status": "completed"
    },
    "tags": []
   },
   "source": [
    "### Validation Model"
   ]
  },
  {
   "cell_type": "code",
   "execution_count": null,
   "id": "cf8b443a",
   "metadata": {
    "papermill": {
     "duration": 0.322194,
     "end_time": "2021-10-08T16:02:44.815559",
     "exception": false,
     "start_time": "2021-10-08T16:02:44.493365",
     "status": "completed"
    },
    "tags": []
   },
   "outputs": [],
   "source": [
    "plt.plot(history.history[\"loss\"])\n",
    "plt.plot(history.history[\"val_loss\"])\n",
    "plt.title(\"Model train vs validation loss\")\n",
    "plt.ylabel(\"Loss\")\n",
    "plt.xlabel(\"Epoch\")\n",
    "plt.legend([\"Train\", \"Validation\"])\n",
    "plt.show()"
   ]
  },
  {
   "cell_type": "code",
   "execution_count": null,
   "id": "cabf56ce",
   "metadata": {
    "papermill": {
     "duration": 0.338784,
     "end_time": "2021-10-08T16:02:45.203287",
     "exception": false,
     "start_time": "2021-10-08T16:02:44.864503",
     "status": "completed"
    },
    "tags": []
   },
   "outputs": [],
   "source": [
    "y_train = y_train.iloc[n_steps:,:]\n",
    "y_test = y_test.iloc[n_steps:,:]\n",
    "\n",
    "train_pred = model.predict(X_train)\n",
    "test_pred = model.predict(X_test)\n",
    "\n",
    "y_train[\"pred_train\"] = pd.Series(train_pred.flatten(), index=y_train.index)\n",
    "y_test[\"pred_test\"] = pd.Series(test_pred.flatten(), index=y_test.index)"
   ]
  },
  {
   "cell_type": "code",
   "execution_count": null,
   "id": "4dee9da5",
   "metadata": {
    "papermill": {
     "duration": 0.062291,
     "end_time": "2021-10-08T16:02:45.315236",
     "exception": false,
     "start_time": "2021-10-08T16:02:45.252945",
     "status": "completed"
    },
    "tags": []
   },
   "outputs": [],
   "source": [
    "train_score = mean_squared_error(y_train.y,y_train.pred_train)\n",
    "print('Train Score: %.4f MSE' % (train_score))\n",
    "print('Train Score: %.4f RMSE' % (np.sqrt(train_score)))\n",
    "\n",
    "test_score = mean_squared_error(y_test.y,y_test.pred_test)\n",
    "print('Test Score: %.4f MSE' % (test_score))\n",
    "print('Test Score: %.4f RMSE' % (np.sqrt(test_score)))"
   ]
  },
  {
   "cell_type": "code",
   "execution_count": null,
   "id": "8c1eef1c",
   "metadata": {
    "papermill": {
     "duration": 0.409393,
     "end_time": "2021-10-08T16:02:45.774554",
     "exception": false,
     "start_time": "2021-10-08T16:02:45.365161",
     "status": "completed"
    },
    "tags": []
   },
   "outputs": [],
   "source": [
    "result= pd.concat([y_train,y_test])\n",
    "result[[\"y\",\"pred_train\",\"pred_test\"]] = scaler.inverse_transform(result[[\"y\",\"pred_train\",\"pred_test\"]])\n",
    "\n",
    "plt.plot(result.y,label=\"Concentration\")\n",
    "plt.plot(result.pred_train, label=\"Train\")\n",
    "plt.plot(result.pred_test, label=\"Test\")\n",
    "plt.xlabel(\"Date\")\n",
    "plt.ylabel(\"ug/m3\")\n",
    "plt.legend()\n",
    "plt.title(\"Concentration of PM2.5 (ug/m3)\")\n",
    "plt.show()"
   ]
  },
  {
   "cell_type": "markdown",
   "id": "5a764d87",
   "metadata": {
    "papermill": {
     "duration": 0.052146,
     "end_time": "2021-10-08T16:02:45.880105",
     "exception": false,
     "start_time": "2021-10-08T16:02:45.827959",
     "status": "completed"
    },
    "tags": []
   },
   "source": [
    "The model looks good now let's make a forecast!"
   ]
  },
  {
   "cell_type": "markdown",
   "id": "69bd87f8",
   "metadata": {
    "papermill": {
     "duration": 0.051822,
     "end_time": "2021-10-08T16:02:45.984587",
     "exception": false,
     "start_time": "2021-10-08T16:02:45.932765",
     "status": "completed"
    },
    "tags": []
   },
   "source": [
    "## Forecasting <a name=\"Forecasting\"></a>"
   ]
  },
  {
   "cell_type": "code",
   "execution_count": null,
   "id": "1a08206a",
   "metadata": {
    "papermill": {
     "duration": 0.103576,
     "end_time": "2021-10-08T16:02:46.141095",
     "exception": false,
     "start_time": "2021-10-08T16:02:46.037519",
     "status": "completed"
    },
    "tags": []
   },
   "outputs": [],
   "source": [
    "pred = model.predict(X_test[-24:])\n",
    "index=pd.date_range(start=\"2020-09-20 23:00:00\", periods=24, freq=\"H\")\n",
    "pred_df = pd.DataFrame(pred.flatten(), index=index, columns=[\"pred\"])\n",
    "\n",
    "result= pd.concat([result,pred_df])\n",
    "result[[\"pred\"]] = scaler.inverse_transform(result[[\"pred\"]])"
   ]
  },
  {
   "cell_type": "code",
   "execution_count": null,
   "id": "736b07a0",
   "metadata": {
    "papermill": {
     "duration": 0.371246,
     "end_time": "2021-10-08T16:02:46.565400",
     "exception": false,
     "start_time": "2021-10-08T16:02:46.194154",
     "status": "completed"
    },
    "tags": []
   },
   "outputs": [],
   "source": [
    "forecast = result[[\"y\",\"pred\"]]\n",
    "\n",
    "plt.plot(forecast.y, label=\"Concentration\")\n",
    "plt.plot(forecast.pred ,label=\"Forecast\")\n",
    "plt.xlabel(\"Date\")\n",
    "plt.ylabel(\"ug/m3\")\n",
    "plt.legend()\n",
    "plt.title(\"Concentration of PM2.5 (ug/m3)\")\n",
    "plt.show()"
   ]
  }
 ],
 "metadata": {
  "kernelspec": {
   "display_name": "Python 3 (ipykernel)",
   "language": "python",
   "name": "python3"
  },
  "language_info": {
   "codemirror_mode": {
    "name": "ipython",
    "version": 3
   },
   "file_extension": ".py",
   "mimetype": "text/x-python",
   "name": "python",
   "nbconvert_exporter": "python",
   "pygments_lexer": "ipython3",
   "version": "3.9.5"
  },
  "papermill": {
   "default_parameters": {},
   "duration": 26.762465,
   "end_time": "2021-10-08T16:02:50.054288",
   "environment_variables": {},
   "exception": null,
   "input_path": "__notebook__.ipynb",
   "output_path": "__notebook__.ipynb",
   "parameters": {},
   "start_time": "2021-10-08T16:02:23.291823",
   "version": "2.3.3"
  }
 },
 "nbformat": 4,
 "nbformat_minor": 5
}
